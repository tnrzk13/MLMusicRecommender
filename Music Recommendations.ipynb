{
 "cells": [
  {
   "cell_type": "code",
   "execution_count": 25,
   "metadata": {},
   "outputs": [],
   "source": [
    "#get data\n",
    "import pandas as pd\n",
    "from sklearn.tree import DecisionTreeClassifier\n",
    "from sklearn.model_selection import train_test_split\n",
    "from sklearn.metrics import accuracy_score\n",
    "from sklearn.externals import joblib #model persistance\n",
    "from sklearn import tree #decision tree\n",
    "\n",
    "music_data = pd.read_csv('music.csv')\n",
    "\n",
    "#prepare data - data is fine, no irrelevances or incomplete data\n",
    "# 70-80% for training, rest for testing\n",
    "#split data - split into input set (age, gender), and output set (genre) for training\n",
    "Input = music_data.drop(columns=['genre'])\n",
    "Output = music_data['genre']\n",
    "Intrain, Intest, Outtrain, Outtest = train_test_split(Input, Output, test_size=0.2) #20% data for testing\n",
    "\n",
    "#Create model\n",
    "model = DecisionTreeClassifier()\n",
    "model.fit(Intrain, Outtrain)\n",
    "\n",
    "joblib.dump(model, 'music-recommender.joblib') # #Model Persistance - save a trained model so you don't need to train it again\n",
    "model = joblib.load('music-recommender.joblib')\n",
    "\n",
    "#Predict\n",
    "#predictions = model.predict([[21,1], [22,0]]) #21 yr old male, 22 yr old female\n",
    "predictions = model.predict(Intest)\n",
    "\n",
    "#Evaluate\n",
    "score = accuracy_score(Outtest, predictions)\n",
    "\n",
    "#Visualize tree\n",
    "tree.export_graphviz(model, out_file='music-recommender.dot', \n",
    "                    feature_names=['age', 'gender'], \n",
    "                    class_names=sorted(Output.unique()), #unique list of classes\n",
    "                    label='all',\n",
    "                    rounded=True,\n",
    "                    filled=True)"
   ]
  },
  {
   "cell_type": "code",
   "execution_count": null,
   "metadata": {},
   "outputs": [],
   "source": []
  },
  {
   "cell_type": "code",
   "execution_count": null,
   "metadata": {},
   "outputs": [],
   "source": []
  }
 ],
 "metadata": {
  "kernelspec": {
   "display_name": "Python 3",
   "language": "python",
   "name": "python3"
  },
  "language_info": {
   "codemirror_mode": {
    "name": "ipython",
    "version": 3
   },
   "file_extension": ".py",
   "mimetype": "text/x-python",
   "name": "python",
   "nbconvert_exporter": "python",
   "pygments_lexer": "ipython3",
   "version": "3.7.3"
  }
 },
 "nbformat": 4,
 "nbformat_minor": 2
}
